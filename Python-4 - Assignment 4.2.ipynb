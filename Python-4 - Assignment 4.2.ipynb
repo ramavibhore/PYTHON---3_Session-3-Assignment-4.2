{
 "cells": [
  {
   "cell_type": "code",
   "execution_count": 2,
   "metadata": {},
   "outputs": [
    {
     "name": "stdout",
     "output_type": "stream",
     "text": [
      "True\n"
     ]
    }
   ],
   "source": [
    "def boolean_vowel(letter):\n",
    "    vowels=[\"a\", \"e\", \"i\", \"o\", \"u\"]\n",
    "    if letter in vowels:\n",
    "        return True\n",
    "    else:\n",
    "        return False\n",
    "\n",
    "input_char = input(\"Enter the character to check for Vowel: \")\n",
    "input_char = input_char.lower()\n",
    "output = boolean_vowel(input_char)\n",
    "print(bool(output))"
   ]
  }
 ],
 "metadata": {
  "kernelspec": {
   "display_name": "Python 3",
   "language": "python",
   "name": "python3"
  },
  "language_info": {
   "codemirror_mode": {
    "name": "ipython",
    "version": 3
   },
   "file_extension": ".py",
   "mimetype": "text/x-python",
   "name": "python",
   "nbconvert_exporter": "python",
   "pygments_lexer": "ipython3",
   "version": "3.6.4"
  }
 },
 "nbformat": 4,
 "nbformat_minor": 2
}
